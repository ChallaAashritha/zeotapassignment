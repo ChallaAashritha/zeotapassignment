{
  "nbformat": 4,
  "nbformat_minor": 0,
  "metadata": {
    "colab": {
      "provenance": [],
      "authorship_tag": "ABX9TyPAYlRjJ5flA3KXKxqmYzb+",
      "include_colab_link": true
    },
    "kernelspec": {
      "name": "python3",
      "display_name": "Python 3"
    },
    "language_info": {
      "name": "python"
    }
  },
  "cells": [
    {
      "cell_type": "markdown",
      "metadata": {
        "id": "view-in-github",
        "colab_type": "text"
      },
      "source": [
        "<a href=\"https://colab.research.google.com/github/ChallaAashritha/zeotapassignment/blob/main/FirstName_LastName_Lookalike.ipynb\" target=\"_parent\"><img src=\"https://colab.research.google.com/assets/colab-badge.svg\" alt=\"Open In Colab\"/></a>"
      ]
    },
    {
      "cell_type": "code",
      "execution_count": 7,
      "metadata": {
        "id": "NWPN-II0c8e1"
      },
      "outputs": [],
      "source": [
        "import pandas as pd\n",
        "from sklearn.feature_extraction.text import TfidfVectorizer\n",
        "from sklearn.metrics.pairwise import cosine_similarity\n",
        "from sklearn.preprocessing import StandardScaler"
      ]
    },
    {
      "cell_type": "code",
      "source": [
        "customers = pd.read_csv('Customers.csv')\n",
        "products = pd.read_csv('Products.csv')\n",
        "transactions = pd.read_csv('Transactions.csv')"
      ],
      "metadata": {
        "id": "NhdQo8oJdKBS"
      },
      "execution_count": 8,
      "outputs": []
    },
    {
      "cell_type": "code",
      "source": [
        "merged_data = transactions.merge(customers, on='CustomerID', how='left')\n",
        "merged_data = merged_data.merge(products, on='ProductID', how='left')"
      ],
      "metadata": {
        "id": "2oP4-_jLdSqG"
      },
      "execution_count": 9,
      "outputs": []
    },
    {
      "cell_type": "code",
      "source": [
        "customer_spending = merged_data.groupby('CustomerID')['TotalValue'].sum().reset_index()\n",
        "customer_spending.rename(columns={'TotalValue': 'TotalSpending'}, inplace=True)\n",
        "\n",
        "customer_frequency = merged_data.groupby('CustomerID')['TransactionID'].count().reset_index()\n",
        "customer_frequency.rename(columns={'TransactionID': 'TransactionFrequency'}, inplace=True)\n",
        "\n",
        "customer_preferences = merged_data.groupby('CustomerID')['Category'].apply(lambda x: ' '.join(x)).reset_index()"
      ],
      "metadata": {
        "id": "xsSaisUsdTFI"
      },
      "execution_count": 10,
      "outputs": []
    },
    {
      "cell_type": "code",
      "source": [
        "customer_features = customers.merge(customer_spending, on='CustomerID', how='left')\n",
        "customer_features = customer_features.merge(customer_frequency, on='CustomerID', how='left')\n",
        "customer_features = customer_features.merge(customer_preferences, on='CustomerID', how='left')\n",
        "customer_features.fillna({'TotalSpending': 0, 'TransactionFrequency': 0, 'Category': ''}, inplace=True)\n",
        "scaler = StandardScaler()\n",
        "customer_features[['TotalSpending', 'TransactionFrequency']] = scaler.fit_transform(\n",
        "    customer_features[['TotalSpending', 'TransactionFrequency']]\n",
        ")\n",
        "customer_features = pd.get_dummies(customer_features, columns=['Region'], drop_first=True)\n",
        "tfidf = TfidfVectorizer()\n",
        "tfidf_matrix = tfidf.fit_transform(customer_features['Category'])\n",
        "numeric_features = customer_features.drop(['CustomerID', 'CustomerName', 'SignupDate', 'Category'], axis=1)\n",
        "final_features = pd.concat(\n",
        "    [pd.DataFrame(numeric_features.values), pd.DataFrame(tfidf_matrix.toarray())], axis=1\n",
        ")\n",
        "similarity_matrix = cosine_similarity(final_features)\n",
        "customer_ids = customer_features['CustomerID'].tolist()\n",
        "lookalike_map = {}\n",
        "for i, cust_id in enumerate(customer_ids[:20]):\n",
        "    similarities = list(enumerate(similarity_matrix[i]))\n",
        "    similarities = sorted(similarities, key=lambda x: x[1], reverse=True)[1:4]\n",
        "    lookalike_map[cust_id] = [(customer_ids[idx], round(score, 3)) for idx, score in similarities]\n",
        "lookalike_df = pd.DataFrame(\n",
        "    [{'cust_id': cust_id, 'lookalikes': lookalikes} for cust_id, lookalikes in lookalike_map.items()]\n",
        ")\n",
        "lookalike_df.to_csv('FirstName_LastName_Lookalike.csv', index=False)"
      ],
      "metadata": {
        "id": "Iy_mG46Bde2b"
      },
      "execution_count": 11,
      "outputs": []
    },
    {
      "cell_type": "code",
      "source": [],
      "metadata": {
        "id": "_WxNAQOFhyzf"
      },
      "execution_count": null,
      "outputs": []
    }
  ]
}